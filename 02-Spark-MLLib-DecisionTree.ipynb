{
 "cells": [
  {
   "cell_type": "markdown",
   "metadata": {},
   "source": [
    "### *********** Atenção: *********** \n",
    "Utilize Java JDK 1.8 ou 11 e Apache Spark 2.4.2"
   ]
  },
  {
   "cell_type": "markdown",
   "metadata": {},
   "source": [
    "****** Caso receba mensagem de erro \"name 'sc' is not defined\", interrompa o pyspark e apague o diretório metastore_db no mesmo diretório onde está este Jupyter notebook ******"
   ]
  },
  {
   "cell_type": "markdown",
   "metadata": {},
   "source": [
    "## <font color='blue'>Spark MLLib - Classificação - Decision Tree</font>"
   ]
  },
  {
   "cell_type": "markdown",
   "metadata": {},
   "source": [
    "<strong> Descrição </strong>\n",
    "<ul style=\"list-style-type:square\">\n",
    "  <li>Fácil de compreender e fácil de explicar.</li>\n",
    "  <li>Variáveis preditoras são usadas para construir uma árvore que progressivamente prevê valores target.</li>\n",
    "  <li>Dados de treino são usados para construir a árvore de decisão e prever o valor target.</li>\n",
    "  <li>A árovre de decisão se torna um modelo que é usado para fazer previsões com novos dados.</li>\n",
    "</ul>"
   ]
  },
  {
   "cell_type": "markdown",
   "metadata": {},
   "source": [
    "<dl>\n",
    "  <dt>Vantagens</dt>\n",
    "  <dd>- Fácil de interpretar e explicar</dd>\n",
    "  <dd>- Funciona com valores missing</dd>\n",
    "  <dd>- Veloz</dd>\n",
    "  <br />\n",
    "  <dt>Desvantagens</dt>\n",
    "  <dd>- Acurácia limitada</dd>\n",
    "  <dd>- Bias podem ocorrer com frequência</dd>\n",
    "  <dd>- Não funciona bem com muitas variáveis preditoras</dd>\n",
    "  <br />\n",
    "  <dt>Aplicação</dt>\n",
    "  <dd>- Aprovação de crédito</dd>\n",
    "  <dd>- Categorização preliminar</dd>\n",
    "</dl>"
   ]
  },
  {
   "cell_type": "markdown",
   "metadata": {},
   "source": [
    "## Classificar as espécies de flores, listadas no dataset iris"
   ]
  },
  {
   "cell_type": "code",
   "execution_count": 1,
   "metadata": {},
   "outputs": [
    {
     "name": "stderr",
     "output_type": "stream",
     "text": [
      "/opt/homebrew/anaconda3/envs/python10/lib/python3.10/site-packages/scipy/__init__.py:146: UserWarning: A NumPy version >=1.16.5 and <1.23.0 is required for this version of SciPy (detected version 1.23.1\n",
      "  warnings.warn(f\"A NumPy version >={np_minversion} and <{np_maxversion}\"\n"
     ]
    }
   ],
   "source": [
    "# Imports \n",
    "from pyspark.sql import Row\n",
    "from pyspark.ml.feature import StringIndexer\n",
    "from pyspark.sql import SparkSession\n",
    "from pyspark import SparkContext, SparkConf\n",
    "from pyspark.ml.linalg import Vectors\n",
    "from pyspark.ml.classification import DecisionTreeClassifier\n",
    "from pyspark.ml.evaluation import MulticlassClassificationEvaluator"
   ]
  },
  {
   "cell_type": "code",
   "execution_count": 2,
   "metadata": {},
   "outputs": [
    {
     "name": "stderr",
     "output_type": "stream",
     "text": [
      "Setting default log level to \"WARN\".\n",
      "To adjust logging level use sc.setLogLevel(newLevel). For SparkR, use setLogLevel(newLevel).\n"
     ]
    },
    {
     "name": "stdout",
     "output_type": "stream",
     "text": [
      "22/08/14 22:18:13 WARN NativeCodeLoader: Unable to load native-hadoop library for your platform... using builtin-java classes where applicable\n",
      "22/08/14 22:18:14 WARN Utils: Service 'SparkUI' could not bind on port 4040. Attempting port 4041.\n",
      "22/08/14 22:18:14 WARN Utils: Service 'SparkUI' could not bind on port 4041. Attempting port 4042.\n"
     ]
    }
   ],
   "source": [
    "# Spark Session - usada quando se trabalha com Dataframes no Spark\n",
    "spSession = SparkSession.builder.master(\"local\").appName(\"Kayo-SparkMLLib\").getOrCreate()"
   ]
  },
  {
   "cell_type": "code",
   "execution_count": 3,
   "metadata": {},
   "outputs": [],
   "source": [
    "sc = spSession.sparkContext"
   ]
  },
  {
   "cell_type": "code",
   "execution_count": 4,
   "metadata": {},
   "outputs": [],
   "source": [
    "# Carregando os dados e gerando um RDD\n",
    "irisRDD = sc.textFile(\"data/iris.csv\")"
   ]
  },
  {
   "cell_type": "code",
   "execution_count": 5,
   "metadata": {},
   "outputs": [
    {
     "data": {
      "text/plain": [
       "data/iris.csv MapPartitionsRDD[1] at textFile at NativeMethodAccessorImpl.java:0"
      ]
     },
     "execution_count": 5,
     "metadata": {},
     "output_type": "execute_result"
    }
   ],
   "source": [
    "# Colocando o RDD em cache. Esse processo otimiza a performance.\n",
    "irisRDD.cache()"
   ]
  },
  {
   "cell_type": "code",
   "execution_count": 6,
   "metadata": {},
   "outputs": [
    {
     "name": "stderr",
     "output_type": "stream",
     "text": [
      "                                                                                \r"
     ]
    },
    {
     "data": {
      "text/plain": [
       "151"
      ]
     },
     "execution_count": 6,
     "metadata": {},
     "output_type": "execute_result"
    }
   ],
   "source": [
    "irisRDD.count()"
   ]
  },
  {
   "cell_type": "code",
   "execution_count": 7,
   "metadata": {},
   "outputs": [
    {
     "data": {
      "text/plain": [
       "['Sepal.Length,Sepal.Width,Petal.Length,Petal.Width,Species',\n",
       " '5.1,3.5,1.4,0.2,setosa',\n",
       " '4.9,3,1.4,0.2,setosa',\n",
       " '4.7,3.2,1.3,0.2,setosa',\n",
       " '4.6,3.1,1.5,0.2,setosa']"
      ]
     },
     "execution_count": 7,
     "metadata": {},
     "output_type": "execute_result"
    }
   ],
   "source": [
    "irisRDD.take(5)"
   ]
  },
  {
   "cell_type": "code",
   "execution_count": 8,
   "metadata": {},
   "outputs": [
    {
     "data": {
      "text/plain": [
       "150"
      ]
     },
     "execution_count": 8,
     "metadata": {},
     "output_type": "execute_result"
    }
   ],
   "source": [
    "# Removendo a primeira linha do arquivo (cabeçalho)\n",
    "irisRDD2 = irisRDD.filter(lambda x: \"Sepal\" not in x)\n",
    "irisRDD2.count()"
   ]
  },
  {
   "cell_type": "code",
   "execution_count": 10,
   "metadata": {},
   "outputs": [
    {
     "data": {
      "text/plain": [
       "['5.1,3.5,1.4,0.2,setosa',\n",
       " '4.9,3,1.4,0.2,setosa',\n",
       " '4.7,3.2,1.3,0.2,setosa',\n",
       " '4.6,3.1,1.5,0.2,setosa',\n",
       " '5,3.6,1.4,0.2,setosa']"
      ]
     },
     "execution_count": 10,
     "metadata": {},
     "output_type": "execute_result"
    }
   ],
   "source": [
    "irisRDD2.take(5)"
   ]
  },
  {
   "cell_type": "markdown",
   "metadata": {},
   "source": [
    "## Limpeza dos Dados"
   ]
  },
  {
   "cell_type": "code",
   "execution_count": 11,
   "metadata": {},
   "outputs": [],
   "source": [
    "# Separando as colunas\n",
    "irisRDD3 = irisRDD2.map(lambda l: l.split(\",\"))"
   ]
  },
  {
   "cell_type": "code",
   "execution_count": 12,
   "metadata": {},
   "outputs": [
    {
     "data": {
      "text/plain": [
       "[['5.1', '3.5', '1.4', '0.2', 'setosa'],\n",
       " ['4.9', '3', '1.4', '0.2', 'setosa'],\n",
       " ['4.7', '3.2', '1.3', '0.2', 'setosa'],\n",
       " ['4.6', '3.1', '1.5', '0.2', 'setosa'],\n",
       " ['5', '3.6', '1.4', '0.2', 'setosa']]"
      ]
     },
     "execution_count": 12,
     "metadata": {},
     "output_type": "execute_result"
    }
   ],
   "source": [
    "irisRDD3.take(5)"
   ]
  },
  {
   "cell_type": "code",
   "execution_count": 13,
   "metadata": {},
   "outputs": [],
   "source": [
    "# Mapeando as colunas\n",
    "irisRDD4 = irisRDD3.map(lambda p: Row(SEPAL_LENGTH = float(p[0]), SEPAL_WIDTH = float(p[1]), \n",
    "                                      PETAL_LENGTH = float(p[2]), PETAL_WIDTH = float(p[3]), \n",
    "                                      SPECIES = p[4] ))"
   ]
  },
  {
   "cell_type": "code",
   "execution_count": 14,
   "metadata": {},
   "outputs": [
    {
     "data": {
      "text/plain": [
       "[Row(SEPAL_LENGTH=5.1, SEPAL_WIDTH=3.5, PETAL_LENGTH=1.4, PETAL_WIDTH=0.2, SPECIES='setosa'),\n",
       " Row(SEPAL_LENGTH=4.9, SEPAL_WIDTH=3.0, PETAL_LENGTH=1.4, PETAL_WIDTH=0.2, SPECIES='setosa'),\n",
       " Row(SEPAL_LENGTH=4.7, SEPAL_WIDTH=3.2, PETAL_LENGTH=1.3, PETAL_WIDTH=0.2, SPECIES='setosa'),\n",
       " Row(SEPAL_LENGTH=4.6, SEPAL_WIDTH=3.1, PETAL_LENGTH=1.5, PETAL_WIDTH=0.2, SPECIES='setosa'),\n",
       " Row(SEPAL_LENGTH=5.0, SEPAL_WIDTH=3.6, PETAL_LENGTH=1.4, PETAL_WIDTH=0.2, SPECIES='setosa')]"
      ]
     },
     "execution_count": 14,
     "metadata": {},
     "output_type": "execute_result"
    }
   ],
   "source": [
    "irisRDD4.take(5)"
   ]
  },
  {
   "cell_type": "code",
   "execution_count": 15,
   "metadata": {
    "scrolled": false
   },
   "outputs": [
    {
     "data": {
      "text/plain": [
       "DataFrame[SEPAL_LENGTH: double, SEPAL_WIDTH: double, PETAL_LENGTH: double, PETAL_WIDTH: double, SPECIES: string]"
      ]
     },
     "execution_count": 15,
     "metadata": {},
     "output_type": "execute_result"
    }
   ],
   "source": [
    "# Criando um Dataframe\n",
    "irisDF = spSession.createDataFrame(irisRDD4)\n",
    "irisDF.cache()"
   ]
  },
  {
   "cell_type": "code",
   "execution_count": 17,
   "metadata": {},
   "outputs": [
    {
     "data": {
      "text/plain": [
       "[Row(SEPAL_LENGTH=5.1, SEPAL_WIDTH=3.5, PETAL_LENGTH=1.4, PETAL_WIDTH=0.2, SPECIES='setosa'),\n",
       " Row(SEPAL_LENGTH=4.9, SEPAL_WIDTH=3.0, PETAL_LENGTH=1.4, PETAL_WIDTH=0.2, SPECIES='setosa'),\n",
       " Row(SEPAL_LENGTH=4.7, SEPAL_WIDTH=3.2, PETAL_LENGTH=1.3, PETAL_WIDTH=0.2, SPECIES='setosa'),\n",
       " Row(SEPAL_LENGTH=4.6, SEPAL_WIDTH=3.1, PETAL_LENGTH=1.5, PETAL_WIDTH=0.2, SPECIES='setosa'),\n",
       " Row(SEPAL_LENGTH=5.0, SEPAL_WIDTH=3.6, PETAL_LENGTH=1.4, PETAL_WIDTH=0.2, SPECIES='setosa')]"
      ]
     },
     "execution_count": 17,
     "metadata": {},
     "output_type": "execute_result"
    }
   ],
   "source": [
    "irisDF.take(5)"
   ]
  },
  {
   "cell_type": "code",
   "execution_count": 18,
   "metadata": {},
   "outputs": [],
   "source": [
    "# Criando um índice numérico para a coluna de label target\n",
    "stringIndexer = StringIndexer(inputCol = \"SPECIES\", outputCol = \"IDX_SPECIES\")\n",
    "si_model = stringIndexer.fit(irisDF)\n",
    "irisNormDF = si_model.transform(irisDF)"
   ]
  },
  {
   "cell_type": "code",
   "execution_count": 22,
   "metadata": {},
   "outputs": [
    {
     "data": {
      "text/plain": [
       "[Row(SEPAL_LENGTH=6.7, SEPAL_WIDTH=3.0, PETAL_LENGTH=5.2, PETAL_WIDTH=2.3, SPECIES='virginica', IDX_SPECIES=2.0),\n",
       " Row(SEPAL_LENGTH=6.3, SEPAL_WIDTH=2.5, PETAL_LENGTH=5.0, PETAL_WIDTH=1.9, SPECIES='virginica', IDX_SPECIES=2.0),\n",
       " Row(SEPAL_LENGTH=6.5, SEPAL_WIDTH=3.0, PETAL_LENGTH=5.2, PETAL_WIDTH=2.0, SPECIES='virginica', IDX_SPECIES=2.0),\n",
       " Row(SEPAL_LENGTH=6.2, SEPAL_WIDTH=3.4, PETAL_LENGTH=5.4, PETAL_WIDTH=2.3, SPECIES='virginica', IDX_SPECIES=2.0),\n",
       " Row(SEPAL_LENGTH=5.9, SEPAL_WIDTH=3.0, PETAL_LENGTH=5.1, PETAL_WIDTH=1.8, SPECIES='virginica', IDX_SPECIES=2.0)]"
      ]
     },
     "execution_count": 22,
     "metadata": {},
     "output_type": "execute_result"
    }
   ],
   "source": [
    "irisNormDF.tail(5)"
   ]
  },
  {
   "cell_type": "code",
   "execution_count": 23,
   "metadata": {},
   "outputs": [
    {
     "data": {
      "text/plain": [
       "[Row(SPECIES='setosa', IDX_SPECIES=0.0),\n",
       " Row(SPECIES='virginica', IDX_SPECIES=2.0),\n",
       " Row(SPECIES='versicolor', IDX_SPECIES=1.0)]"
      ]
     },
     "execution_count": 23,
     "metadata": {},
     "output_type": "execute_result"
    }
   ],
   "source": [
    "irisNormDF.select(\"SPECIES\",\"IDX_SPECIES\").distinct().collect()"
   ]
  },
  {
   "cell_type": "markdown",
   "metadata": {},
   "source": [
    "## Análise Exploratória de Dados"
   ]
  },
  {
   "cell_type": "code",
   "execution_count": 24,
   "metadata": {},
   "outputs": [
    {
     "name": "stderr",
     "output_type": "stream",
     "text": [
      "\r",
      "[Stage 18:>                                                         (0 + 1) / 1]\r"
     ]
    },
    {
     "name": "stdout",
     "output_type": "stream",
     "text": [
      "+-------+------------------+-------------------+------------------+------------------+---------+------------------+\n",
      "|summary|      SEPAL_LENGTH|        SEPAL_WIDTH|      PETAL_LENGTH|       PETAL_WIDTH|  SPECIES|       IDX_SPECIES|\n",
      "+-------+------------------+-------------------+------------------+------------------+---------+------------------+\n",
      "|  count|               150|                150|               150|               150|      150|               150|\n",
      "|   mean| 5.843333333333335|  3.057333333333334|3.7580000000000027| 1.199333333333334|     null|               1.0|\n",
      "| stddev|0.8280661279778637|0.43586628493669793|1.7652982332594662|0.7622376689603467|     null|0.8192319205190406|\n",
      "|    min|               4.3|                2.0|               1.0|               0.1|   setosa|               0.0|\n",
      "|    max|               7.9|                4.4|               6.9|               2.5|virginica|               2.0|\n",
      "+-------+------------------+-------------------+------------------+------------------+---------+------------------+\n",
      "\n"
     ]
    },
    {
     "name": "stderr",
     "output_type": "stream",
     "text": [
      "\r",
      "                                                                                \r"
     ]
    }
   ],
   "source": [
    "# Estatística descritiva\n",
    "irisNormDF.describe().show()"
   ]
  },
  {
   "cell_type": "code",
   "execution_count": 25,
   "metadata": {},
   "outputs": [
    {
     "name": "stdout",
     "output_type": "stream",
     "text": [
      "Correlação da variável IDX_SPECIES com SEPAL_LENGTH 0.7825612318100821\n",
      "Correlação da variável IDX_SPECIES com SEPAL_WIDTH -0.42665756078112294\n",
      "Correlação da variável IDX_SPECIES com PETAL_LENGTH 0.9490346990083889\n",
      "Correlação da variável IDX_SPECIES com PETAL_WIDTH 0.9565473328764024\n",
      "Correlação da variável IDX_SPECIES com IDX_SPECIES 1.0\n"
     ]
    }
   ],
   "source": [
    "# Correlação entre as variáveis\n",
    "for i in irisNormDF.columns:\n",
    "    if not(isinstance(irisNormDF.select(i).take(1)[0][0], str)) :\n",
    "        print(\"Correlação da variável IDX_SPECIES com\", i, irisNormDF.stat.corr('IDX_SPECIES', i))"
   ]
  },
  {
   "cell_type": "markdown",
   "metadata": {},
   "source": [
    "## Pré-Processamento dos Dados"
   ]
  },
  {
   "cell_type": "code",
   "execution_count": 26,
   "metadata": {},
   "outputs": [],
   "source": [
    "# Criando um LabeledPoint (target, Vector[features])\n",
    "# Remove colunas não relevantes para o modelo ou com baixa correlação\n",
    "def transformaVar(row) :\n",
    "    obj = (row[\"SPECIES\"], row[\"IDX_SPECIES\"], Vectors.dense([row[\"SEPAL_LENGTH\"], row[\"SEPAL_WIDTH\"], \n",
    "                                                              row[\"PETAL_LENGTH\"], row[\"PETAL_WIDTH\"]]))\n",
    "    return obj"
   ]
  },
  {
   "cell_type": "code",
   "execution_count": 27,
   "metadata": {},
   "outputs": [],
   "source": [
    "irisRDD5 = irisNormDF.rdd.map(transformaVar)"
   ]
  },
  {
   "cell_type": "code",
   "execution_count": 28,
   "metadata": {},
   "outputs": [
    {
     "data": {
      "text/plain": [
       "[('setosa', 0.0, DenseVector([5.1, 3.5, 1.4, 0.2])),\n",
       " ('setosa', 0.0, DenseVector([4.9, 3.0, 1.4, 0.2])),\n",
       " ('setosa', 0.0, DenseVector([4.7, 3.2, 1.3, 0.2])),\n",
       " ('setosa', 0.0, DenseVector([4.6, 3.1, 1.5, 0.2])),\n",
       " ('setosa', 0.0, DenseVector([5.0, 3.6, 1.4, 0.2]))]"
      ]
     },
     "execution_count": 28,
     "metadata": {},
     "output_type": "execute_result"
    }
   ],
   "source": [
    "irisRDD5.take(5)"
   ]
  },
  {
   "cell_type": "code",
   "execution_count": 29,
   "metadata": {},
   "outputs": [
    {
     "name": "stdout",
     "output_type": "stream",
     "text": [
      "+-------+-----+-----------------+\n",
      "|species|label|         features|\n",
      "+-------+-----+-----------------+\n",
      "| setosa|  0.0|[5.1,3.5,1.4,0.2]|\n",
      "| setosa|  0.0|[4.9,3.0,1.4,0.2]|\n",
      "| setosa|  0.0|[4.7,3.2,1.3,0.2]|\n",
      "| setosa|  0.0|[4.6,3.1,1.5,0.2]|\n",
      "| setosa|  0.0|[5.0,3.6,1.4,0.2]|\n",
      "| setosa|  0.0|[5.4,3.9,1.7,0.4]|\n",
      "| setosa|  0.0|[4.6,3.4,1.4,0.3]|\n",
      "| setosa|  0.0|[5.0,3.4,1.5,0.2]|\n",
      "| setosa|  0.0|[4.4,2.9,1.4,0.2]|\n",
      "| setosa|  0.0|[4.9,3.1,1.5,0.1]|\n",
      "+-------+-----+-----------------+\n",
      "only showing top 10 rows\n",
      "\n"
     ]
    },
    {
     "data": {
      "text/plain": [
       "DataFrame[species: string, label: double, features: vector]"
      ]
     },
     "execution_count": 29,
     "metadata": {},
     "output_type": "execute_result"
    }
   ],
   "source": [
    "irisDF = spSession.createDataFrame(irisRDD5,[\"species\", \"label\", \"features\"])\n",
    "irisDF.select(\"species\",\"label\",\"features\").show(10)\n",
    "irisDF.cache()"
   ]
  },
  {
   "cell_type": "markdown",
   "metadata": {},
   "source": [
    "## Machine Learning"
   ]
  },
  {
   "cell_type": "code",
   "execution_count": 30,
   "metadata": {},
   "outputs": [],
   "source": [
    "# Dados de Treino e de Teste\n",
    "(dados_treino, dados_teste) = irisDF.randomSplit([0.7, 0.3])"
   ]
  },
  {
   "cell_type": "code",
   "execution_count": 31,
   "metadata": {},
   "outputs": [
    {
     "data": {
      "text/plain": [
       "116"
      ]
     },
     "execution_count": 31,
     "metadata": {},
     "output_type": "execute_result"
    }
   ],
   "source": [
    "dados_treino.count()"
   ]
  },
  {
   "cell_type": "code",
   "execution_count": 32,
   "metadata": {},
   "outputs": [
    {
     "data": {
      "text/plain": [
       "34"
      ]
     },
     "execution_count": 32,
     "metadata": {},
     "output_type": "execute_result"
    }
   ],
   "source": [
    "dados_teste.count()"
   ]
  },
  {
   "cell_type": "code",
   "execution_count": 33,
   "metadata": {},
   "outputs": [],
   "source": [
    "# Construindo o modelo com os dados de treino\n",
    "dtClassifer = DecisionTreeClassifier(maxDepth = 2, labelCol = \"label\", featuresCol = \"features\")\n",
    "modelo = dtClassifer.fit(dados_treino)"
   ]
  },
  {
   "cell_type": "code",
   "execution_count": 34,
   "metadata": {},
   "outputs": [
    {
     "data": {
      "text/plain": [
       "2"
      ]
     },
     "execution_count": 34,
     "metadata": {},
     "output_type": "execute_result"
    }
   ],
   "source": [
    "modelo.numNodes\n",
    "modelo.depth"
   ]
  },
  {
   "cell_type": "code",
   "execution_count": 35,
   "metadata": {},
   "outputs": [
    {
     "data": {
      "text/plain": [
       "[Row(prediction=0.0, species='setosa', label=0.0),\n",
       " Row(prediction=0.0, species='setosa', label=0.0),\n",
       " Row(prediction=0.0, species='setosa', label=0.0),\n",
       " Row(prediction=0.0, species='setosa', label=0.0),\n",
       " Row(prediction=0.0, species='setosa', label=0.0),\n",
       " Row(prediction=0.0, species='setosa', label=0.0),\n",
       " Row(prediction=0.0, species='setosa', label=0.0),\n",
       " Row(prediction=0.0, species='setosa', label=0.0),\n",
       " Row(prediction=0.0, species='setosa', label=0.0),\n",
       " Row(prediction=0.0, species='setosa', label=0.0),\n",
       " Row(prediction=0.0, species='setosa', label=0.0),\n",
       " Row(prediction=0.0, species='setosa', label=0.0),\n",
       " Row(prediction=0.0, species='setosa', label=0.0),\n",
       " Row(prediction=0.0, species='setosa', label=0.0),\n",
       " Row(prediction=0.0, species='setosa', label=0.0),\n",
       " Row(prediction=1.0, species='versicolor', label=1.0),\n",
       " Row(prediction=1.0, species='versicolor', label=1.0),\n",
       " Row(prediction=1.0, species='versicolor', label=1.0),\n",
       " Row(prediction=1.0, species='versicolor', label=1.0),\n",
       " Row(prediction=1.0, species='versicolor', label=1.0),\n",
       " Row(prediction=1.0, species='versicolor', label=1.0),\n",
       " Row(prediction=1.0, species='versicolor', label=1.0),\n",
       " Row(prediction=1.0, species='versicolor', label=1.0),\n",
       " Row(prediction=1.0, species='versicolor', label=1.0),\n",
       " Row(prediction=1.0, species='versicolor', label=1.0),\n",
       " Row(prediction=1.0, species='versicolor', label=1.0),\n",
       " Row(prediction=2.0, species='virginica', label=2.0),\n",
       " Row(prediction=1.0, species='virginica', label=2.0),\n",
       " Row(prediction=2.0, species='virginica', label=2.0),\n",
       " Row(prediction=1.0, species='virginica', label=2.0),\n",
       " Row(prediction=2.0, species='virginica', label=2.0),\n",
       " Row(prediction=2.0, species='virginica', label=2.0),\n",
       " Row(prediction=2.0, species='virginica', label=2.0),\n",
       " Row(prediction=2.0, species='virginica', label=2.0)]"
      ]
     },
     "execution_count": 35,
     "metadata": {},
     "output_type": "execute_result"
    }
   ],
   "source": [
    "# Previsões com dados de teste\n",
    "previsoes = modelo.transform(dados_teste)\n",
    "previsoes.select(\"prediction\",\"species\",\"label\").collect()"
   ]
  },
  {
   "cell_type": "code",
   "execution_count": 36,
   "metadata": {},
   "outputs": [
    {
     "data": {
      "text/plain": [
       "0.9411764705882353"
      ]
     },
     "execution_count": 36,
     "metadata": {},
     "output_type": "execute_result"
    }
   ],
   "source": [
    "# Avaliando a acurácia\n",
    "avaliador = MulticlassClassificationEvaluator(predictionCol = \"prediction\", labelCol = \"label\", metricName = \"accuracy\")\n",
    "avaliador.evaluate(previsoes)      "
   ]
  },
  {
   "cell_type": "code",
   "execution_count": 37,
   "metadata": {},
   "outputs": [
    {
     "name": "stdout",
     "output_type": "stream",
     "text": [
      "+-----+----------+-----+\n",
      "|label|prediction|count|\n",
      "+-----+----------+-----+\n",
      "|  1.0|       1.0|   11|\n",
      "|  2.0|       2.0|    6|\n",
      "|  2.0|       1.0|    2|\n",
      "|  0.0|       0.0|   15|\n",
      "+-----+----------+-----+\n",
      "\n"
     ]
    }
   ],
   "source": [
    "# Resumindo as previsões - Confusion Matrix\n",
    "previsoes.groupBy(\"label\",\"prediction\").count().show()"
   ]
  }
 ],
 "metadata": {
  "anaconda-cloud": {},
  "kernelspec": {
   "display_name": "Python 3 (ipykernel)",
   "language": "python",
   "name": "python3"
  },
  "language_info": {
   "codemirror_mode": {
    "name": "ipython",
    "version": 3
   },
   "file_extension": ".py",
   "mimetype": "text/x-python",
   "name": "python",
   "nbconvert_exporter": "python",
   "pygments_lexer": "ipython3",
   "version": "3.10.4"
  }
 },
 "nbformat": 4,
 "nbformat_minor": 1
}
